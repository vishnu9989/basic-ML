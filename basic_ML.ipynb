{
  "nbformat": 4,
  "nbformat_minor": 0,
  "metadata": {
    "colab": {
      "name": "basic ML",
      "provenance": [],
      "authorship_tag": "ABX9TyNAuR43gJSc7JJ6Ry39hQAB",
      "include_colab_link": true
    },
    "kernelspec": {
      "name": "python3",
      "display_name": "Python 3"
    },
    "language_info": {
      "name": "python"
    }
  },
  "cells": [
    {
      "cell_type": "markdown",
      "metadata": {
        "id": "view-in-github",
        "colab_type": "text"
      },
      "source": [
        "<a href=\"https://colab.research.google.com/github/vishnu9989/basic-ML/blob/main/basic_ML.ipynb\" target=\"_parent\"><img src=\"https://colab.research.google.com/assets/colab-badge.svg\" alt=\"Open In Colab\"/></a>"
      ]
    },
    {
      "cell_type": "code",
      "metadata": {
        "id": "AF_AplKW1pcI"
      },
      "source": [
        "print(\"Hello programmer\")"
      ],
      "execution_count": null,
      "outputs": []
    },
    {
      "cell_type": "markdown",
      "metadata": {
        "id": "3ZkomlDw5M3n"
      },
      "source": [
        "used to wish the programmer.\n"
      ]
    },
    {
      "cell_type": "markdown",
      "metadata": {
        "id": "r9_Dlc8T5n4P"
      },
      "source": [
        "Here we use the if-else condition to return the greater or largest number among the two different numbers.\n"
      ]
    },
    {
      "cell_type": "code",
      "metadata": {
        "id": "yn8IN9ZT9QI2"
      },
      "source": [
        ""
      ],
      "execution_count": null,
      "outputs": []
    },
    {
      "cell_type": "code",
      "metadata": {
        "id": "wiCy0bmF1_o3"
      },
      "source": [
        "x=int(input())\n",
        "y=int(input())\n",
        "if x>y:\n",
        "  print(x,\"is greater\")\n",
        "else :\n",
        "  print(y,\"is greater\")\n"
      ],
      "execution_count": null,
      "outputs": []
    },
    {
      "cell_type": "code",
      "metadata": {
        "id": "dmp-Tffr6E6X"
      },
      "source": [
        "num=int(input())\n",
        "for i in range(1,num):\n",
        "  num *=i\n",
        "print(num)"
      ],
      "execution_count": null,
      "outputs": []
    },
    {
      "cell_type": "markdown",
      "metadata": {
        "id": "EmHRq44J79Xn"
      },
      "source": [
        "In this program we used range loop to find out the factorial of the given number"
      ]
    }
  ]
}